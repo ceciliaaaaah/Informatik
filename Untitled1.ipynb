{
  "nbformat": 4,
  "nbformat_minor": 0,
  "metadata": {
    "colab": {
      "provenance": []
    },
    "kernelspec": {
      "name": "python3",
      "display_name": "Python 3"
    },
    "language_info": {
      "name": "python"
    }
  },
  "cells": [
    {
      "cell_type": "code",
      "execution_count": null,
      "metadata": {
        "id": "NyZfVnWv4Yjm"
      },
      "outputs": [],
      "source": [
        "#in diesem Abschnitt beginnen wir mit dem Einladen der Libraries\n",
        "import tensorflow as tf \n",
        "import numpy as np\n",
        "\n",
        "#in diesem Abschnitt laden wir die Daten (Bilder und Labels) aus der Datenbank \"Mnist Fashion\" ein\n",
        "mnist = tf.keras.datasets.fashion_mnist\n",
        "(training_images, training_labels), (test_images, test_labels) = mnist.load_data()\n",
        "\n",
        "#in diesem Abschnitt formen wir unsere Daten so um, dass unser neuronales Netz mit den Daten arbeiten kann\n",
        "training_images = training_images.reshape(60000, 28, 28, 1)\n",
        "training_images = training_images / 255.0\n",
        "test_images = test_images.reshape(10000, 28, 28, 1)\n",
        "test_images = test_images / 255.0\n",
        "\n",
        "#in diesem Abschnitt \"bauen\" wir uns neuronales Netz\n",
        "model = tf.keras.models.Sequential([\n",
        "    tf.keras.layers.Flatten(),\n",
        "    tf.keras.layers.Dense(128, activation='relu'),\n",
        "    tf.keras.layers.Dense(10, activation='softmax')\n",
        "])\n",
        "\n",
        "#in diesem Abschnitt trainieren wir unser neuronales Netz\n",
        "model.compile(optimizer='adam', loss='sparse_categorical_crossentropy', metrics=['accuracy'])\n",
        "model.fit(training_images,training_labels, epochs=4)\n",
        "\n",
        "\n"
      ]
    }
  ]
}